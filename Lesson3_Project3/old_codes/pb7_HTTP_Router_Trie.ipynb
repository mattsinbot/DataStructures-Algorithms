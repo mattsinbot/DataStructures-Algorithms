{
 "cells": [
  {
   "cell_type": "code",
   "execution_count": 13,
   "metadata": {},
   "outputs": [],
   "source": [
    "# A RouteTrie will store our routes and their associated handlers\n",
    "class RouteTrie:\n",
    "    def __init__(self, root_handler_name):\n",
    "        # Initialize the trie with an root node and a handler, this is the root path or home page node\n",
    "        self.root = RouteTrieNode(root_handler_name)\n",
    "\n",
    "    def insert(self, path2list, handler_name):\n",
    "        # Similar to our previous example you will want to recursively add nodes\n",
    "        # Make sure you assign the handler to only the leaf (deepest) node of this path\n",
    "        current_node = self.root\n",
    "        n = len(path2list)\n",
    "        for indx, part in enumerate(path2list):\n",
    "            if not part in current_node.children:\n",
    "                if indx == n - 1:\n",
    "                    current_node.children[part] = RouteTrieNode(handler_name)\n",
    "                else:\n",
    "                    current_node.children[part] = RouteTrieNode()\n",
    "            current_node = current_node.children[part]\n",
    "\n",
    "    def find(self, path2list):\n",
    "        # Starting at the root, navigate the Trie to find a match for this path\n",
    "        # Return the handler for a match, or None for no match\n",
    "        current_node = self.root        \n",
    "        for part in path2list:\n",
    "            if part in current_node.children:\n",
    "                current_node = current_node.children[part]\n",
    "            else:\n",
    "                return None\n",
    "        return current_node.handler\n",
    "\n",
    "\n",
    "# A RouteTrieNode will be similar to our autocomplete TrieNode... with one additional element, a handler.\n",
    "class RouteTrieNode:\n",
    "    def __init__(self, handler=None):\n",
    "        # Initialize the node with children as before, plus a handler\n",
    "        self.children = {}\n",
    "        self.handler = handler\n",
    "\n",
    "    def insert(self):\n",
    "        # Insert the node as before\n",
    "        pass\n",
    "\n",
    "\n",
    "# The Router class will wrap the Trie and handle \n",
    "class Router:\n",
    "    def __init__(self, root_handler_name):\n",
    "        # Create a new RouteTrie for holding our routes\n",
    "        # You could also add a handler for 404 page not found responses as well!\n",
    "        self.route_trie = RouteTrie(root_handler_name)\n",
    "\n",
    "    def add_handler(self, path, handler):\n",
    "        # Add a handler for a path\n",
    "        # You will need to split the path and pass the pass parts\n",
    "        # as a list to the RouteTrie\n",
    "        path2list = self.split_path(path)\n",
    "        self.route_trie.insert(path2list, handler)\n",
    "\n",
    "    def lookup(self, path):\n",
    "        # lookup path (by parts) and return the associated handler\n",
    "        # you can return None if it's not found or\n",
    "        # return the \"not found\" handler if you added one\n",
    "        # bonus points if a path works with and without a trailing slash\n",
    "        # e.g. /about and /about/ both return the /about handler\n",
    "        path2list = self.split_path(path)\n",
    "        return self.route_trie.find(path2list)\n",
    "        # print(handler)\n",
    "\n",
    "    def split_path(self, path):\n",
    "        # you need to split the path into parts for \n",
    "        # both the add_handler and loopup functions,\n",
    "        # so it should be placed in a function here\n",
    "        path2list = path.split(\"/\")\n",
    "        if path[-1] == \"/\":\n",
    "            path2list = path2list[1:-1]\n",
    "        else:\n",
    "            path2list = path2list[1:]\n",
    "        return path2list"
   ]
  },
  {
   "cell_type": "code",
   "execution_count": 14,
   "metadata": {},
   "outputs": [
    {
     "name": "stdout",
     "output_type": "stream",
     "text": [
      "root handler\n",
      "None\n",
      "about handler\n",
      "about handler\n",
      "None\n"
     ]
    }
   ],
   "source": [
    "# Here are some test cases and expected outputs you can use to test your implementation\n",
    "\n",
    "# create the router and add a route\n",
    "router = Router(\"root handler\") # remove the 'not found handler' if you did not implement this\n",
    "router.add_handler(\"/home/about\", \"about handler\")  # add a route\n",
    "\n",
    "# some lookups with the expected output\n",
    "print(router.lookup(\"/\")) # should print 'root handler'\n",
    "print(router.lookup(\"/home\")) # should print 'not found handler' or None if you did not implement one\n",
    "print(router.lookup(\"/home/about\")) # should print 'about handler'\n",
    "print(router.lookup(\"/home/about/\")) # should print 'about handler' or None if you did not handle trailing slashes\n",
    "print(router.lookup(\"/home/about/me\")) # should print 'not found handler' or None if you did not implement one"
   ]
  },
  {
   "cell_type": "code",
   "execution_count": 1,
   "metadata": {},
   "outputs": [
    {
     "data": {
      "text/plain": [
       "'\\nTime Complexity:\\nSpace Complexity: is proportional to O(n) for insert function and O(1) for find function \\n'"
      ]
     },
     "execution_count": 1,
     "metadata": {},
     "output_type": "execute_result"
    }
   ],
   "source": [
    "\"\"\"\n",
    "Most of the work goes into performing \"add_handler\" method and \"lookup method\"\n",
    "Time Complexity: is proportional to O(n) for add_handler method if there are n words in the path and O(1) for lookup method since hash-map has been used to store the paths \n",
    "Space Complexity: O(n) for add_handler method and O(1) for loopup method\n",
    "\"\"\""
   ]
  },
  {
   "cell_type": "code",
   "execution_count": 8,
   "metadata": {},
   "outputs": [
    {
     "name": "stdout",
     "output_type": "stream",
     "text": [
      "['', 'home', 'about', '']\n",
      "/\n",
      "['home', 'about']\n"
     ]
    }
   ],
   "source": [
    "my_str = \"/home/about/\"\n",
    "new_str = my_str.split(\"/\")\n",
    "print(new_str)\n",
    "print(my_str[-1])\n",
    "print(new_str[1:-1])"
   ]
  },
  {
   "cell_type": "code",
   "execution_count": null,
   "metadata": {},
   "outputs": [],
   "source": [
    "root_handler_n"
   ]
  }
 ],
 "metadata": {
  "kernelspec": {
   "display_name": "Python 3",
   "language": "python",
   "name": "python3"
  },
  "language_info": {
   "codemirror_mode": {
    "name": "ipython",
    "version": 3
   },
   "file_extension": ".py",
   "mimetype": "text/x-python",
   "name": "python",
   "nbconvert_exporter": "python",
   "pygments_lexer": "ipython3",
   "version": "3.6.8"
  }
 },
 "nbformat": 4,
 "nbformat_minor": 2
}

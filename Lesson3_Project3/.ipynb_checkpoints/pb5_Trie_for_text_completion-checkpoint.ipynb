{
 "cells": [
  {
   "cell_type": "code",
   "execution_count": 52,
   "metadata": {},
   "outputs": [
    {
     "data": {
      "application/vnd.jupyter.widget-view+json": {
       "model_id": "4ee16e8461f64780bf90f45104686804",
       "version_major": 2,
       "version_minor": 0
      },
      "text/plain": [
       "interactive(children=(Text(value='', description='prefix'), Output()), _dom_classes=('widget-interact',))"
      ]
     },
     "metadata": {},
     "output_type": "display_data"
    },
    {
     "data": {
      "text/plain": [
       "<function __main__.f(prefix)>"
      ]
     },
     "execution_count": 52,
     "metadata": {},
     "output_type": "execute_result"
    }
   ],
   "source": [
    "# My solution\n",
    "class TrieNode(object):\n",
    "    def __init__(self):\n",
    "        self.is_word = False\n",
    "        self.children = {}\n",
    "        \n",
    "    def suffixes(self):\n",
    "        suggestion_list = []\n",
    "        \n",
    "        def recurse_suggestion(node, node_key):\n",
    "            small_suggestion_list = []\n",
    "            \n",
    "            # If the current key is the last char of a word and \n",
    "            # current node has empty children, then just return \n",
    "            # empty suggestion\n",
    "            if node.is_word and not node.children:\n",
    "                return small_suggestion_list\n",
    "            \n",
    "            # If the current key is the last char of a word and \n",
    "            # current node has children, then append an empty \n",
    "            # string to the small_suggestion_list\n",
    "            if node.is_word and node.children:\n",
    "                small_suggestion_list.append(\"\")\n",
    "            \n",
    "            # For each key in the current node's children preform the following\n",
    "            for nkey in node.children:\n",
    "                # Get smaller suggestions by recursively calling \n",
    "                # recurse_suggestion() in a list named small_suff\n",
    "                small_suff = recurse_suggestion(node.children[nkey], nkey)\n",
    "                \n",
    "                # If small_suff is empty, just append the current key\n",
    "                if len(small_suff) == 0:\n",
    "                    small_suggestion_list.append(nkey)\n",
    "                    continue\n",
    "                \n",
    "                # When small_suff is non empty, concatenate current key with intermediate\n",
    "                # suggestions and append it to the small_suggestion_list\n",
    "                for j in small_suff:\n",
    "                    small_suggestion_list.append(nkey + j)\n",
    "            return small_suggestion_list\n",
    "        \n",
    "        # Loop through all the keys of the child field of current node\n",
    "        for key in self.children:\n",
    "            suff = recurse_suggestion(self.children[key], key)\n",
    "            for i in suff:\n",
    "                suggestion_list.append(key + i)\n",
    "\n",
    "        return suggestion_list\n",
    "\n",
    "\n",
    "class Trie(object):\n",
    "    def __init__(self):\n",
    "        self.root = TrieNode()\n",
    "\n",
    "    def insert(self, word):\n",
    "        current_node = self.root        \n",
    "        for char in word:\n",
    "            if not char in current_node.children:\n",
    "                current_node.children[char] = TrieNode()\n",
    "            current_node = current_node.children[char]\n",
    "        current_node.is_word = True            \n",
    "\n",
    "    def exists(self, word):\n",
    "        current_node = self.root        \n",
    "        for char in word:\n",
    "            if char in current_node.children:\n",
    "                current_node = current_node.children[char]\n",
    "            else:\n",
    "                return False\n",
    "        return current_node.is_word\n",
    "    \n",
    "    def find(self, prefix):\n",
    "        current_node = self.root\n",
    "        count = 0\n",
    "        # Loop through the prefix character\n",
    "        for char in prefix:\n",
    "            if not char in current_node.children:\n",
    "                return None\n",
    "            current_node = current_node.children[char]\n",
    "        # Return the node obtained by last char of prefix string.\n",
    "        # This node will be used for suffix computation.\n",
    "        return current_node\n",
    "\n",
    "\n",
    "# Case : 1\n",
    "MyTrie = Trie()\n",
    "wordList = [\"ant\", \"anthology\", \"antagonist\", \"antonym\", \"fun\", \"function\", \"factory\", \"trie\", \"trigger\", \"trigonometry\", \"tripod\"]\n",
    "\n",
    "for word in wordList:\n",
    "    MyTrie.insert(word)\n",
    "MyTrie.exists(\"fun\")\n",
    "\n",
    "from ipywidgets import widgets\n",
    "from IPython.display import display\n",
    "from ipywidgets import interact\n",
    "\n",
    "def f(prefix):\n",
    "    if prefix != '':\n",
    "        prefixNode = MyTrie.find(prefix)\n",
    "        if prefixNode:\n",
    "            print('\\n'.join(prefixNode.suffixes()))\n",
    "            # print(prefixNode.suffixes())\n",
    "        else:\n",
    "            print(prefix + \" not found\")\n",
    "    else:\n",
    "        print('')\n",
    "\n",
    "interact(f,prefix='')"
   ]
  },
  {
   "cell_type": "code",
   "execution_count": null,
   "metadata": {},
   "outputs": [],
   "source": [
    "\"\"\"\n",
    "Majority of the work goes into performing \"suffixes()\" method.\n",
    "Time Complexity: If for a given prefix, there are n possible suffixes then they can be found in O(n) time\n",
    "Space Complixity: Size of the list of all suffixes is O(n)\n",
    "\"\"\""
   ]
  }
 ],
 "metadata": {
  "kernelspec": {
   "display_name": "Python 3",
   "language": "python",
   "name": "python3"
  },
  "language_info": {
   "codemirror_mode": {
    "name": "ipython",
    "version": 3
   },
   "file_extension": ".py",
   "mimetype": "text/x-python",
   "name": "python",
   "nbconvert_exporter": "python",
   "pygments_lexer": "ipython3",
   "version": "3.6.8"
  }
 },
 "nbformat": 4,
 "nbformat_minor": 2
}

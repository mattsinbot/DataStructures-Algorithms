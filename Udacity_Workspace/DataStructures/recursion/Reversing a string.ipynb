{
 "cells": [
  {
   "cell_type": "markdown",
   "metadata": {
    "graffitiCellId": "id_vwxoyg1"
   },
   "source": [
    "# Reversing a String"
   ]
  },
  {
   "cell_type": "markdown",
   "metadata": {
    "graffitiCellId": "id_b24w32i"
   },
   "source": [
    "The goal in this notebook will be to get practice with a problem that is frequently solved by recursion: Reversing a string.\n",
    "\n",
    "Note that Python has a built-in function that you could use for this, but the goal here is to avoid that and understand how it can be done using recursion instead."
   ]
  },
  {
   "cell_type": "code",
   "execution_count": 11,
   "metadata": {
    "graffitiCellId": "id_ericocu"
   },
   "outputs": [],
   "source": [
    "def reverse_string(input):\n",
    "    if input == \"\":\n",
    "        return \"\"\n",
    "    else:\n",
    "        if len(input) > 3:\n",
    "            return input[-1] + reverse_string(input[1:len(input)-1]) + input[0]\n",
    "        else:\n",
    "            return input[2] + input[1] + input[0]"
   ]
  },
  {
   "cell_type": "code",
   "execution_count": 13,
   "metadata": {
    "graffitiCellId": "id_0zqr9ts"
   },
   "outputs": [
    {
     "name": "stdout",
     "output_type": "stream",
     "text": [
      "Pass\n",
      "Pass\n",
      "Pass\n"
     ]
    }
   ],
   "source": [
    "print (\"Pass\" if  (\"\" == reverse_string(\"\")) else \"Fail\")\n",
    "print (\"Pass\" if  (\"cba\" == reverse_string(\"abc\")) else \"Fail\")\n",
    "print (\"Pass\" if  (\"gfedcba\" == reverse_string(\"abcdefg\")) else \"Fail\")"
   ]
  },
  {
   "cell_type": "markdown",
   "metadata": {
    "graffitiCellId": "id_4uzxsts"
   },
   "source": [
    "<span class=\"graffiti-highlight graffiti-id_4uzxsts-id_3o4r993\"><i></i><button>Show Solution</button></span>"
   ]
  },
  {
   "cell_type": "code",
   "execution_count": 8,
   "metadata": {
    "graffitiCellId": "id_t9umiev"
   },
   "outputs": [
    {
     "name": "stdout",
     "output_type": "stream",
     "text": [
      "cbba\n"
     ]
    }
   ],
   "source": [
    "print(reverse_string(\"abc\"))"
   ]
  },
  {
   "cell_type": "code",
   "execution_count": null,
   "metadata": {},
   "outputs": [],
   "source": []
  }
 ],
 "metadata": {
  "graffiti": {
   "firstAuthorId": "10694620118",
   "id": "id_engua4l",
   "language": "EN"
  },
  "kernelspec": {
   "display_name": "Python 3",
   "language": "python",
   "name": "python3"
  },
  "language_info": {
   "codemirror_mode": {
    "name": "ipython",
    "version": 3
   },
   "file_extension": ".py",
   "mimetype": "text/x-python",
   "name": "python",
   "nbconvert_exporter": "python",
   "pygments_lexer": "ipython3",
   "version": "3.7.3"
  }
 },
 "nbformat": 4,
 "nbformat_minor": 2
}

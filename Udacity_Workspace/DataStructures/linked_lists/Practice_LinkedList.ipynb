{
 "cells": [
  {
   "cell_type": "code",
   "execution_count": 6,
   "metadata": {},
   "outputs": [],
   "source": [
    "class Node(object):\n",
    "    def __init__(self, value):\n",
    "        self.value = value\n",
    "        self.next = None"
   ]
  },
  {
   "cell_type": "code",
   "execution_count": 7,
   "metadata": {},
   "outputs": [],
   "source": [
    "# Create a head node\n",
    "head_node = Node(1)\n",
    "\n",
    "# Create few other nodes manually\n",
    "head_node.next = Node(10)\n",
    "head_node.next.next = Node(100)\n",
    "head_node.next.next.next = Node(1000)"
   ]
  },
  {
   "cell_type": "code",
   "execution_count": 8,
   "metadata": {},
   "outputs": [
    {
     "name": "stdout",
     "output_type": "stream",
     "text": [
      "1\n",
      "10\n",
      "100\n",
      "1000\n"
     ]
    }
   ],
   "source": [
    "# Traverse the linkedlist and print values of each Node element\n",
    "def traverse_linkedlist(head):\n",
    "    current_node = head\n",
    "    while current_node is not None:\n",
    "        print(current_node.value)\n",
    "        current_node = current_node.next\n",
    "traverse_linkedlist(head_node)"
   ]
  },
  {
   "cell_type": "code",
   "execution_count": 19,
   "metadata": {},
   "outputs": [],
   "source": [
    "# Create a linkedlist using iteration\n",
    "def create_linkedlist(ip_list):\n",
    "    head, current_node = None, None\n",
    "    for value in ip_list:\n",
    "        if head is not None:\n",
    "            current_node.next = Node(value)\n",
    "            current_node = current_node.next\n",
    "        else: # for the 1st iteration\n",
    "            head = Node(value)\n",
    "            current_node = head\n",
    "    return head\n",
    "\n",
    "val_list = [5, 50, 500, 5000]\n",
    "head_node = create_linkedlist(val_list)"
   ]
  },
  {
   "cell_type": "code",
   "execution_count": 20,
   "metadata": {},
   "outputs": [
    {
     "name": "stdout",
     "output_type": "stream",
     "text": [
      "5\n",
      "50\n",
      "500\n",
      "5000\n"
     ]
    }
   ],
   "source": [
    "# Traverse the list created iteratively\n",
    "traverse_linkedlist(head_node)"
   ]
  },
  {
   "cell_type": "code",
   "execution_count": null,
   "metadata": {},
   "outputs": [],
   "source": []
  }
 ],
 "metadata": {
  "kernelspec": {
   "display_name": "Python 3",
   "language": "python",
   "name": "python3"
  },
  "language_info": {
   "codemirror_mode": {
    "name": "ipython",
    "version": 3
   },
   "file_extension": ".py",
   "mimetype": "text/x-python",
   "name": "python",
   "nbconvert_exporter": "python",
   "pygments_lexer": "ipython3",
   "version": "3.7.3"
  }
 },
 "nbformat": 4,
 "nbformat_minor": 2
}

{
 "cells": [
  {
   "cell_type": "markdown",
   "metadata": {},
   "source": [
    "# Binary Tree pre-order traversal\n",
    "In this notebook we esentially perform the following tasks,\n",
    "\n",
    "1. Create a **Node** class which is the basic building block of a Binary tree.\n",
    "2. Create a **State** class to keep track whether *left_child* and *right_child* nodes have been already visited if one exists.\n",
    "3. Create a **Tree** class with only one attribute *root* of the *tree*.\n",
    "4. Build a tree object called **my_tree** with values of various nodes.\n",
    "5. Write a function named **pre_order_traversal** to traverse the tree."
   ]
  },
  {
   "cell_type": "code",
   "execution_count": 52,
   "metadata": {},
   "outputs": [],
   "source": [
    "class Node(object):\n",
    "    def __init__(self, value=None):\n",
    "        self.value = value\n",
    "        self.left_child = None\n",
    "        self.right_child = None\n",
    "        \n",
    "    def get_value(self):\n",
    "        return self.value\n",
    "    \n",
    "    def set_value(self, value):\n",
    "        self.value = value\n",
    "        \n",
    "    def set_left_child(self, node):\n",
    "        self.left_child = node\n",
    "        \n",
    "    def set_right_child(self, node):\n",
    "        self.right_child = node\n",
    "        \n",
    "    def get_left_child(self):\n",
    "        return self.left_child\n",
    "    \n",
    "    def get_right_child(self):\n",
    "        return self.right_child\n",
    "    \n",
    "    def has_left_child(self):\n",
    "        if self.left_child != None:\n",
    "            return True\n",
    "        else:\n",
    "            return None\n",
    "        \n",
    "    def has_right_child(self):\n",
    "        if self.right_child != None:\n",
    "            return True\n",
    "        else:\n",
    "            return False\n",
    "        \n",
    "    def __repr__(self):\n",
    "        return str(self.get_value())"
   ]
  },
  {
   "cell_type": "code",
   "execution_count": 53,
   "metadata": {},
   "outputs": [],
   "source": [
    "class State(object):\n",
    "    def __init__(self, node):\n",
    "        self.node = node\n",
    "        self.visited_left = False\n",
    "        self.visited_right = False\n",
    "        \n",
    "    def get_node(self):\n",
    "        return self.node\n",
    "    \n",
    "    def get_visited_left(self):\n",
    "        return self.visited_left\n",
    "    \n",
    "    def get_visited_right(self):\n",
    "        return self.visited_right\n",
    "    \n",
    "    def set_visited_left(self):\n",
    "        self.visited_left = True\n",
    "        \n",
    "    def set_visited_right(self):\n",
    "        self.visited_right = True"
   ]
  },
  {
   "cell_type": "code",
   "execution_count": 54,
   "metadata": {},
   "outputs": [],
   "source": [
    "class Tree(object):\n",
    "    def __init__(self, value):\n",
    "        self.root = Node(value)\n",
    "        \n",
    "    def get_root(self):\n",
    "        return self.root"
   ]
  },
  {
   "cell_type": "code",
   "execution_count": 60,
   "metadata": {},
   "outputs": [],
   "source": [
    "# Create a Tree and a few Nodes to it\n",
    "my_tree = Tree(\"united_nations\")\n",
    "my_tree.get_root().set_left_child(Node(\"united_sates\"))\n",
    "my_tree.get_root().set_right_child(Node(\"united_kingdom\"))\n",
    "my_tree.get_root().get_left_child().set_left_child(Node(\"united_arab_emirates\"))"
   ]
  },
  {
   "cell_type": "code",
   "execution_count": 77,
   "metadata": {},
   "outputs": [],
   "source": [
    "def pre_order_traversal(tree):\n",
    "    visit_order = list()\n",
    "    stacked_nodes = list()\n",
    "    node = tree.get_root()\n",
    "    print(node)\n",
    "    visit_order.append(node.get_value())\n",
    "    state = State(node)\n",
    "    stacked_nodes.append(state)\n",
    "    \n",
    "    count = 0\n",
    "    while node is not None:\n",
    "        count += 1\n",
    "        if node.has_left_child() and not state.get_visited_left():\n",
    "            state.set_visited_left()\n",
    "            node = node.get_left_child()\n",
    "            state = State(node)\n",
    "            visit_order.append(node.get_value())\n",
    "            stacked_nodes.append(state)\n",
    "            print(node)\n",
    "        elif node.has_right_child() and not state.get_visited_right():\n",
    "            print(\"has right child : true\")\n",
    "            state.set_visited_right()\n",
    "            node = node.get_right_child()\n",
    "            state = State(node)\n",
    "            visit_order.append(node.get_value())\n",
    "            stacked_nodes.append(state)\n",
    "            print(node)\n",
    "        else:\n",
    "            stacked_nodes.pop()\n",
    "            print(\"Back up\")\n",
    "            if len(stacked_nodes) > 0:\n",
    "                state = stacked_nodes[-1]\n",
    "                node = state.get_node()\n",
    "                print(node)\n",
    "            else:\n",
    "                node = None\n",
    "                print(node)\n",
    "        print(len(stacked_nodes))"
   ]
  },
  {
   "cell_type": "code",
   "execution_count": 78,
   "metadata": {},
   "outputs": [
    {
     "name": "stdout",
     "output_type": "stream",
     "text": [
      "united_nations\n",
      "united_sates\n",
      "2\n",
      "united_arab_emirates\n",
      "3\n",
      "Back up\n",
      "united_sates\n",
      "2\n",
      "Back up\n",
      "united_nations\n",
      "1\n",
      "has right child : true\n",
      "united_kingdom\n",
      "2\n",
      "Back up\n",
      "united_nations\n",
      "1\n",
      "Back up\n",
      "None\n",
      "0\n"
     ]
    }
   ],
   "source": [
    "pre_order_traversal(my_tree)"
   ]
  },
  {
   "cell_type": "code",
   "execution_count": null,
   "metadata": {},
   "outputs": [],
   "source": []
  }
 ],
 "metadata": {
  "kernelspec": {
   "display_name": "Python 3",
   "language": "python",
   "name": "python3"
  },
  "language_info": {
   "codemirror_mode": {
    "name": "ipython",
    "version": 3
   },
   "file_extension": ".py",
   "mimetype": "text/x-python",
   "name": "python",
   "nbconvert_exporter": "python",
   "pygments_lexer": "ipython3",
   "version": "3.7.3"
  }
 },
 "nbformat": 4,
 "nbformat_minor": 2
}

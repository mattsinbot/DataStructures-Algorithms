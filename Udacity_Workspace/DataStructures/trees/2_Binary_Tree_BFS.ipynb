{
 "cells": [
  {
   "cell_type": "markdown",
   "metadata": {},
   "source": [
    "# Binary Tree traversal using BFS\n",
    "\n",
    "1. Create a **Node** class which is the basic building block of a Binary tree.\n",
    "2. Create a **State** class to keep track whether *left_child* and *right_child* nodes have been already visited if one exists.\n",
    "3. Create a **Tree** class with only one attribute *root* of the *tree*.\n",
    "4. Build a tree object called **my_tree** with values of various nodes.\n",
    "5. Write a function named **breadth_first_search** to traverse the tree."
   ]
  },
  {
   "cell_type": "code",
   "execution_count": 3,
   "metadata": {},
   "outputs": [],
   "source": [
    "from collections import deque"
   ]
  },
  {
   "cell_type": "code",
   "execution_count": 4,
   "metadata": {},
   "outputs": [],
   "source": [
    "class Node(object):\n",
    "    def __init__(self, value=None):\n",
    "        self.value = value\n",
    "        self.left_child = None\n",
    "        self.right_child = None\n",
    "        \n",
    "    def get_value(self):\n",
    "        return self.value\n",
    "    \n",
    "    def set_value(self, value):\n",
    "        self.value = value\n",
    "        \n",
    "    def set_left_child(self, node):\n",
    "        self.left_child = node\n",
    "        \n",
    "    def set_right_child(self, node):\n",
    "        self.right_child = node\n",
    "        \n",
    "    def get_left_child(self):\n",
    "        return self.left_child\n",
    "    \n",
    "    def get_right_child(self):\n",
    "        return self.right_child\n",
    "    \n",
    "    def has_left_child(self):\n",
    "        if self.left_child != None:\n",
    "            return True\n",
    "        else:\n",
    "            return None\n",
    "        \n",
    "    def has_right_child(self):\n",
    "        if self.right_child != None:\n",
    "            return True\n",
    "        else:\n",
    "            return False\n",
    "        \n",
    "    def __repr__(self):\n",
    "        return str(self.get_value())"
   ]
  },
  {
   "cell_type": "code",
   "execution_count": 5,
   "metadata": {},
   "outputs": [],
   "source": [
    "class State(object):\n",
    "    def __init__(self, node):\n",
    "        self.node = node\n",
    "        self.visited_left = False\n",
    "        self.visited_right = False\n",
    "        \n",
    "    def get_node(self):\n",
    "        return self.node\n",
    "    \n",
    "    def get_visited_left(self):\n",
    "        return self.visited_left\n",
    "    \n",
    "    def get_visited_right(self):\n",
    "        return self.visited_right\n",
    "    \n",
    "    def set_visited_left(self):\n",
    "        self.visited_left = True\n",
    "        \n",
    "    def set_visited_right(self):\n",
    "        self.visited_right = True"
   ]
  },
  {
   "cell_type": "code",
   "execution_count": 6,
   "metadata": {},
   "outputs": [],
   "source": [
    "class Tree(object):\n",
    "    def __init__(self, value):\n",
    "        self.root = Node(value)\n",
    "        \n",
    "    def get_root(self):\n",
    "        return self.root"
   ]
  },
  {
   "cell_type": "code",
   "execution_count": 7,
   "metadata": {},
   "outputs": [],
   "source": [
    "# Create a Tree and a few Nodes to it\n",
    "my_tree = Tree(\"united_nations\")\n",
    "my_tree.get_root().set_left_child(Node(\"united_sates\"))\n",
    "my_tree.get_root().set_right_child(Node(\"united_kingdom\"))\n",
    "my_tree.get_root().get_left_child().set_left_child(Node(\"united_arab_emirates\"))"
   ]
  },
  {
   "cell_type": "code",
   "execution_count": 22,
   "metadata": {},
   "outputs": [],
   "source": [
    "def breadth_first_search(tree):\n",
    "    visit_order = list()\n",
    "    queued_nodes = deque()\n",
    "    node = tree.get_root()\n",
    "    # queued_nodes.append(node)\n",
    "    state = State(node)\n",
    "    visit_order.append(node.get_value())\n",
    "    print(visit_order)\n",
    "    \n",
    "    count = 0\n",
    "    while node is not None:\n",
    "        count += 1\n",
    "        \n",
    "        if node.has_left_child() and not state.get_visited_left():\n",
    "            state.set_visited_left()\n",
    "            visit_order.append(node.get_left_child().get_value())\n",
    "            queued_nodes.append(node.get_left_child())\n",
    "        elif node.has_right_child() and not state.get_visited_right():\n",
    "            state.set_visited_right()\n",
    "            visit_order.append(node.get_right_child().get_value())\n",
    "            queued_nodes.append(node.get_right_child())\n",
    "        else:\n",
    "            if queued_nodes:\n",
    "                node = queued_nodes.popleft()\n",
    "                state = State(node)\n",
    "            else:\n",
    "                node = None\n",
    "        if node is not None:\n",
    "            print(visit_order)"
   ]
  },
  {
   "cell_type": "code",
   "execution_count": 23,
   "metadata": {},
   "outputs": [
    {
     "name": "stdout",
     "output_type": "stream",
     "text": [
      "['united_nations']\n",
      "['united_nations', 'united_sates']\n",
      "['united_nations', 'united_sates', 'united_kingdom']\n",
      "['united_nations', 'united_sates', 'united_kingdom']\n",
      "['united_nations', 'united_sates', 'united_kingdom', 'united_arab_emirates']\n",
      "['united_nations', 'united_sates', 'united_kingdom', 'united_arab_emirates']\n",
      "['united_nations', 'united_sates', 'united_kingdom', 'united_arab_emirates']\n"
     ]
    }
   ],
   "source": [
    "breadth_first_search(my_tree)"
   ]
  },
  {
   "cell_type": "code",
   "execution_count": null,
   "metadata": {},
   "outputs": [],
   "source": []
  }
 ],
 "metadata": {
  "kernelspec": {
   "display_name": "Python 3",
   "language": "python",
   "name": "python3"
  },
  "language_info": {
   "codemirror_mode": {
    "name": "ipython",
    "version": 3
   },
   "file_extension": ".py",
   "mimetype": "text/x-python",
   "name": "python",
   "nbconvert_exporter": "python",
   "pygments_lexer": "ipython3",
   "version": "3.7.3"
  }
 },
 "nbformat": 4,
 "nbformat_minor": 2
}

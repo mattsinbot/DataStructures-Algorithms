{
 "cells": [
  {
   "cell_type": "code",
   "execution_count": 18,
   "metadata": {},
   "outputs": [
    {
     "name": "stdout",
     "output_type": "stream",
     "text": [
      "The autoreload extension is already loaded. To reload it, use:\n",
      "  %reload_ext autoreload\n"
     ]
    }
   ],
   "source": [
    "from helpers import Map, load_map, show_map\n",
    "from student_code import shortest_path\n",
    "\n",
    "%load_ext autoreload\n",
    "%autoreload 2"
   ]
  },
  {
   "cell_type": "code",
   "execution_count": 19,
   "metadata": {},
   "outputs": [],
   "source": [
    "map_40 = load_map('map-40.pickle')"
   ]
  },
  {
   "cell_type": "code",
   "execution_count": 20,
   "metadata": {},
   "outputs": [
    {
     "data": {
      "text/plain": [
       "'\\nstart, goal, mymap = 8, 24, map_40\\n# # start, goal, mymap = 33, 19, map_40\\n# correct_path = [8, 14, 16, 37, 12, 17, 10, 24]\\nshortest_path = shortest_path_function(mymap, start, goal)\\nprint(shortest_path)\\n\\nshow_map(map_40, start=start, goal=goal, path=shortest_path)\\n'"
      ]
     },
     "execution_count": 20,
     "metadata": {},
     "output_type": "execute_result"
    }
   ],
   "source": [
    "from math import sqrt\n",
    "\n",
    "# This class is used to hold information of parent and costs\n",
    "# of a particular intersection (node)\n",
    "class Node:\n",
    "    def __init__(self):\n",
    "        self.parent = None\n",
    "        self.g_cost = None\n",
    "        self.f_cost = None\n",
    "\n",
    "# Given two intersection indices, this function computes\n",
    "# the Euclidean distance between those two intersections\n",
    "def find_dist(pt1, pt2):\n",
    "    return sqrt((pt1[0] - pt2[0])**2 + (pt1[1] - pt2[1])**2)\n",
    "\n",
    "# This function returns intersection (node) index, that \n",
    "# corresponds to minimum f_cost value\n",
    "def min_cost_key(frontier_dict):\n",
    "    min_cost, min_key = 1000, None\n",
    "    for key in frontier_dict:\n",
    "        if min_cost > frontier_dict[key].f_cost:\n",
    "            min_cost = frontier_dict[key].f_cost\n",
    "            min_key = key\n",
    "    return min_key\n",
    "\n",
    "def shortest_path_function(mymap, start, goal):\n",
    "    # Initialize data containers\n",
    "    frontier, explored = {}, {}\n",
    "    \n",
    "    # Initialize path list\n",
    "    path = []\n",
    "\n",
    "    # Add start node and its cost to frontier dictionary\n",
    "    frontier[start] = Node()\n",
    "    frontier[start].g_cost = 0\n",
    "    frontier[start].f_cost = 0\n",
    "\n",
    "    # Start exploring the map\n",
    "    goal_reached = False\n",
    "    while frontier and not goal_reached:\n",
    "        current_node = min_cost_key(frontier)\n",
    "        \n",
    "        # Add the current node information to explored\n",
    "        explored[current_node] = frontier[current_node]\n",
    "        \n",
    "        # Pop out the current node from frontier\n",
    "        del frontier[current_node]\n",
    "        \n",
    "        # Check if current node is goal node\n",
    "        if current_node == goal:\n",
    "            goal_reached = True\n",
    "\n",
    "        neighbor = mymap.roads[current_node]\n",
    "        for i in neighbor:\n",
    "            cost_g = explored[current_node].g_cost + find_dist(mymap.intersections[current_node],  mymap.intersections[i])\n",
    "            cost_h = find_dist(mymap.intersections[goal],  mymap.intersections[i])\n",
    "            cost_f = cost_g + cost_h  # A* algorithm\n",
    "#             cost_f = cost_g         # Dijkstra's algorithm\n",
    "\n",
    "            # If the neighbor has already been explored, do nothing\n",
    "            if i in explored:\n",
    "                continue\n",
    "                \n",
    "            # If the neighbor is in frontier or not\n",
    "            if i in frontier:\n",
    "                if frontier[i].f_cost > cost_f:\n",
    "                    frontier[i].f_cost = cost_f\n",
    "                    frontier[i].parent = current_node\n",
    "            else:\n",
    "                frontier[i] = Node()\n",
    "                frontier[i].parent = current_node\n",
    "                frontier[i].f_cost = cost_f\n",
    "                frontier[i].g_cost = cost_g\n",
    "\n",
    "    # Get the shortest path out\n",
    "    path.append(goal)\n",
    "    parent = explored[goal].parent\n",
    "    while (not parent is None):\n",
    "        path.append(parent)\n",
    "        parent = explored[parent].parent\n",
    "    \n",
    "    # reserse the path order to start => goal\n",
    "    path.reverse()\n",
    "    return path\n",
    "\n",
    "\"\"\"\n",
    "start, goal, mymap = 8, 24, map_40\n",
    "# # start, goal, mymap = 33, 19, map_40\n",
    "# correct_path = [8, 14, 16, 37, 12, 17, 10, 24]\n",
    "shortest_path = shortest_path_function(mymap, start, goal)\n",
    "print(shortest_path)\n",
    "\n",
    "show_map(map_40, start=start, goal=goal, path=shortest_path)\n",
    "\"\"\""
   ]
  },
  {
   "cell_type": "code",
   "execution_count": 21,
   "metadata": {},
   "outputs": [],
   "source": [
    "MAP_40_ANSWERS = [\n",
    "    (5, 34, [5, 16, 37, 12, 34]),\n",
    "    (5, 5,  [5]),\n",
    "    (8, 24, [8, 14, 16, 37, 12, 17, 10, 24])\n",
    "]\n",
    "\n",
    "def test(shortest_path_function):\n",
    "    map_40 = load_map('map-40.pickle')\n",
    "    correct = 0\n",
    "    for start, goal, answer_path in MAP_40_ANSWERS:\n",
    "        path = shortest_path_function(map_40, start, goal)\n",
    "        if path == answer_path:\n",
    "            correct += 1\n",
    "        else:\n",
    "            print(\"For start:\", start, \n",
    "                  \"Goal:     \", goal,\n",
    "                  \"Your path:\", path,\n",
    "                  \"Correct:  \", answer_path)\n",
    "    if correct == len(MAP_40_ANSWERS):\n",
    "        print(\"All tests pass! Congratulations!\")\n",
    "    else:\n",
    "        print(\"You passed\", correct, \"/\", len(MAP_40_ANSWERS), \"test cases\")"
   ]
  },
  {
   "cell_type": "code",
   "execution_count": 22,
   "metadata": {},
   "outputs": [
    {
     "name": "stdout",
     "output_type": "stream",
     "text": [
      "All tests pass! Congratulations!\n"
     ]
    }
   ],
   "source": [
    "test(shortest_path_function)"
   ]
  },
  {
   "cell_type": "code",
   "execution_count": null,
   "metadata": {},
   "outputs": [],
   "source": []
  }
 ],
 "metadata": {
  "kernelspec": {
   "display_name": "Python 3",
   "language": "python",
   "name": "python3"
  },
  "language_info": {
   "codemirror_mode": {
    "name": "ipython",
    "version": 3
   },
   "file_extension": ".py",
   "mimetype": "text/x-python",
   "name": "python",
   "nbconvert_exporter": "python",
   "pygments_lexer": "ipython3",
   "version": "3.6.3"
  }
 },
 "nbformat": 4,
 "nbformat_minor": 2
}

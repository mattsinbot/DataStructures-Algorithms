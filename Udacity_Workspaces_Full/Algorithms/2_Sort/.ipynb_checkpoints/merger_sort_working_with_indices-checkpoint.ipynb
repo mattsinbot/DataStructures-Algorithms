{
 "cells": [
  {
   "cell_type": "markdown",
   "metadata": {},
   "source": [
    "# Merge Sort Implementation\n",
    "\n",
    "We have implemented merge sort in two different ways:\n",
    "1. The program returns a new sorted array.\n",
    "2. The program overrides the input array and arrange the elements in sorted order. Also it uses array indices to keep track of the elements."
   ]
  },
  {
   "cell_type": "markdown",
   "metadata": {},
   "source": [
    "### 1. Merge Sort with out using array indices"
   ]
  },
  {
   "cell_type": "code",
   "execution_count": 38,
   "metadata": {},
   "outputs": [],
   "source": [
    "def mergesort(arr):\n",
    "    if len(arr) <= 1:\n",
    "        return arr\n",
    "    \n",
    "    mid = len(arr)//2\n",
    "    left = arr[:mid]\n",
    "    right = arr[mid:]\n",
    "    \n",
    "    left = mergesort(left)\n",
    "    right = mergesort(right)\n",
    "    \n",
    "    return merge(left, right)\n",
    "\n",
    "\n",
    "def merge(left_arr, right_arr):\n",
    "    merged_arr = []\n",
    "    left_index = 0\n",
    "    right_index = 0\n",
    "    \n",
    "    while left_index < len(left_arr) and right_index < len(right_arr):\n",
    "        if left_arr[left_index] > right_arr[right_index]:\n",
    "            merged_arr.append(right_arr[right_index])\n",
    "            right_index += 1\n",
    "        else:\n",
    "            merged_arr.append(left_arr[left_index])\n",
    "            left_index += 1\n",
    "    merged_arr += left_arr[left_index:]\n",
    "    merged_arr += right_arr[right_index:]\n",
    "    return merged_arr"
   ]
  },
  {
   "cell_type": "markdown",
   "metadata": {},
   "source": [
    "## Test cases"
   ]
  },
  {
   "cell_type": "code",
   "execution_count": 39,
   "metadata": {},
   "outputs": [
    {
     "name": "stdout",
     "output_type": "stream",
     "text": [
      "[0, 1, 2, 3, 7, 8, 10]\n"
     ]
    }
   ],
   "source": [
    "test_list_1 = [8, 3, 1, 7, 0, 10, 2]\n",
    "start_index = 0\n",
    "end_index = len(test_list_1)-1\n",
    "sorted_array = mergesort(test_list_1)\n",
    "print(sorted_array)"
   ]
  },
  {
   "cell_type": "markdown",
   "metadata": {},
   "source": [
    "### 2. Merge Sort using array indices to reduce space complexity"
   ]
  },
  {
   "cell_type": "code",
   "execution_count": 36,
   "metadata": {},
   "outputs": [],
   "source": [
    "def mergesort_inplace(arr, start_index, end_index):\n",
    "    if start_index >= end_index:\n",
    "        return\n",
    "    \n",
    "    mid_index = start_index + (end_index  - start_index) // 2\n",
    "    left_start_index, left_end_index = start_index, mid_index\n",
    "    right_start_index, right_end_index = mid_index + 1, end_index\n",
    "    \n",
    "    mergesort_inplace(arr, left_start_index, left_end_index)\n",
    "    mergesort_inplace(arr, right_start_index, right_end_index)\n",
    "    \n",
    "    return merge_inplace(arr, left_start_index, left_end_index, right_start_index, right_end_index)\n",
    "\n",
    "def merge_inplace(arr, left_start_index, left_end_index, right_start_index, right_end_index):\n",
    "    left_index = left_start_index\n",
    "    right_index = right_start_index\n",
    "    index = 0\n",
    "    merged_length = (left_end_index - left_start_index + 1) + (right_end_index - right_start_index + 1)\n",
    "    merged_array = [0 for _ in range(merged_length)]\n",
    "\n",
    "    while index < merged_length:\n",
    "        if arr[left_index] > arr[right_index]:\n",
    "            merged_array[index] = arr[right_index]\n",
    "            right_index += 1\n",
    "        else:\n",
    "            merged_array[index] = arr[left_index]\n",
    "            left_index += 1\n",
    "        index += 1\n",
    "            \n",
    "        if left_index > left_end_index:\n",
    "            for lcl_index in range(right_index, right_end_index+1):\n",
    "                merged_array[index] = arr[lcl_index]\n",
    "                index += 1\n",
    "            break            \n",
    "        if right_index > right_end_index:\n",
    "            for lcl_index in range(left_index, left_end_index+1):\n",
    "                merged_array[index] = arr[lcl_index]\n",
    "                index += 1\n",
    "            break\n",
    "            \n",
    "    index = left_start_index\n",
    "    for i in merged_array:\n",
    "        arr[index] = i\n",
    "        index += 1"
   ]
  },
  {
   "cell_type": "markdown",
   "metadata": {},
   "source": [
    "## Test Cases"
   ]
  },
  {
   "cell_type": "code",
   "execution_count": 37,
   "metadata": {},
   "outputs": [
    {
     "name": "stdout",
     "output_type": "stream",
     "text": [
      "[0, 1, 2, 3, 7, 8, 10]\n"
     ]
    }
   ],
   "source": [
    "test_list_1 = [8, 3, 1, 7, 0, 10, 2]\n",
    "start_index = 0\n",
    "end_index = len(test_list_1)-1\n",
    "mergesort_inplace(test_list_1, start_index, end_index)\n",
    "print(test_list_1)"
   ]
  },
  {
   "cell_type": "markdown",
   "metadata": {},
   "source": [
    "## Time complexity\n",
    "For either type of implementations, time complexity is approximately $\\mathcal{O}(\\log_2n)$, where $n$ is the size of input array"
   ]
  },
  {
   "cell_type": "code",
   "execution_count": null,
   "metadata": {},
   "outputs": [],
   "source": []
  }
 ],
 "metadata": {
  "kernelspec": {
   "display_name": "Python 3",
   "language": "python",
   "name": "python3"
  },
  "language_info": {
   "codemirror_mode": {
    "name": "ipython",
    "version": 3
   },
   "file_extension": ".py",
   "mimetype": "text/x-python",
   "name": "python",
   "nbconvert_exporter": "python",
   "pygments_lexer": "ipython3",
   "version": "3.6.3"
  }
 },
 "nbformat": 4,
 "nbformat_minor": 2
}

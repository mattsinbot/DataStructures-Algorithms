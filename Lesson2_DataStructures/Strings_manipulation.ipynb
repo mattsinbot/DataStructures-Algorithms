{
 "cells": [
  {
   "cell_type": "markdown",
   "metadata": {
    "graffitiCellId": "id_rxtuffz"
   },
   "source": [
    "# Strings Exercises"
   ]
  },
  {
   "cell_type": "markdown",
   "metadata": {
    "graffitiCellId": "id_zly0vr0"
   },
   "source": [
    "#### Intro "
   ]
  },
  {
   "cell_type": "markdown",
   "metadata": {
    "graffitiCellId": "id_xzj5890"
   },
   "source": [
    "Strings in Python are arrays of bytes representing unicode characters. In this exercise we are going to practice our work with string manipulation. "
   ]
  },
  {
   "cell_type": "markdown",
   "metadata": {
    "graffitiCellId": "id_2061hpl"
   },
   "source": [
    "#### Reverse Strings"
   ]
  },
  {
   "cell_type": "markdown",
   "metadata": {
    "graffitiCellId": "id_9w3bnlc"
   },
   "source": [
    "In this first exercise, the goal is to write a function that takes a string as input and then returns the reversed string.\n",
    "\n",
    "For example, if the input is the string `\"water\"`, then the output should be `\"retaw\"`.\n",
    "\n",
    "While you're working on the function and trying to figure out how to manipulate the string, it may help to use the `print` statement so you can see the effects of whatever you're trying."
   ]
  },
  {
   "cell_type": "code",
   "execution_count": 17,
   "metadata": {
    "graffitiCellId": "id_94vaivn"
   },
   "outputs": [],
   "source": [
    "# Code\n",
    "\n",
    "def string_reverser(our_string):\n",
    "\n",
    "    \"\"\"\n",
    "    Reverse the input string\n",
    "\n",
    "    Args:\n",
    "       our_string(string): String to be reversed\n",
    "    Returns:\n",
    "       string: The reversed string\n",
    "    \"\"\"\n",
    "    n = len(our_string)\n",
    "    new_str = str()\n",
    "    for i in range(n-1, -1, -1):\n",
    "        new_str += our_string[i]\n",
    "    return new_str"
   ]
  },
  {
   "cell_type": "code",
   "execution_count": 18,
   "metadata": {
    "graffitiCellId": "id_5a1sq4g"
   },
   "outputs": [
    {
     "name": "stdout",
     "output_type": "stream",
     "text": [
      "Pass\n",
      "Pass\n",
      "Pass\n"
     ]
    }
   ],
   "source": [
    "# Test Cases\n",
    "\n",
    "print (\"Pass\" if ('retaw' == string_reverser('water')) else \"Fail\")\n",
    "print (\"Pass\" if ('!noitalupinam gnirts gnicitcarP' == string_reverser('Practicing string manipulation!')) else \"Fail\")\n",
    "print (\"Pass\" if ('3432 :si edoc esuoh ehT' == string_reverser('The house code is: 2343')) else \"Fail\")"
   ]
  },
  {
   "cell_type": "markdown",
   "metadata": {
    "graffitiCellId": "id_5y1c1sk"
   },
   "source": [
    "<span class=\"graffiti-highlight graffiti-id_5y1c1sk-id_8u3k1ve\"><i></i><button>Show Solution</button></span>"
   ]
  },
  {
   "cell_type": "markdown",
   "metadata": {
    "graffitiCellId": "id_sz1uyhy"
   },
   "source": [
    "#### Anagrams"
   ]
  },
  {
   "cell_type": "markdown",
   "metadata": {
    "graffitiCellId": "id_v8jn802"
   },
   "source": [
    "The goal of this exercise is to write some code to determine if two strings are anagrams of each other.\n",
    "\n",
    "An anagram is a word (or phrase) that is formed by rearranging the letters of another word (or phrase).\n",
    "\n",
    "For example:\n",
    "- \"rat\" is an anagram of \"art\"\n",
    "- \"alert\" is an anagram of \"alter\"\n",
    "- \"Slot machines\" is an anagram of \"Cash lost in me\"\n",
    "\n",
    "Your function should take two strings as input and return `True` if the two words are anagrams and `False` if they are not.\n",
    "\n",
    "You can assume the following about the input strings:\n",
    "- No punctuation\n",
    "- No numbers\n",
    "- No special characters"
   ]
  },
  {
   "cell_type": "code",
   "execution_count": 72,
   "metadata": {
    "graffitiCellId": "id_96z89ik"
   },
   "outputs": [],
   "source": [
    "# Code\n",
    "\n",
    "def anagram_checker(str1, str2):\n",
    "    \n",
    "    \"\"\"\n",
    "    Check if the input strings are anagrams of each other\n",
    "\n",
    "    Args:\n",
    "       str1(string),str2(string): Strings to be checked\n",
    "    Returns:\n",
    "       bool: Indicates whether strings are anagrams\n",
    "    \"\"\"\n",
    "    my_str1, my_str2 = list(str1.replace(\" \",\"\").lower()), list(str2.replace(\" \",\"\").lower())\n",
    "    match_count = 0\n",
    "    for i in my_str1:\n",
    "        for j in my_str2:            \n",
    "            if i.lower() == j.lower():\n",
    "                my_str2.remove(j)\n",
    "                match_count += 1\n",
    "                break\n",
    "    if match_count == len(my_str1) and len(my_str2) == 0:\n",
    "        return True\n",
    "    return False"
   ]
  },
  {
   "cell_type": "code",
   "execution_count": 73,
   "metadata": {
    "graffitiCellId": "id_gef0h1y"
   },
   "outputs": [
    {
     "name": "stdout",
     "output_type": "stream",
     "text": [
      "Pass\n",
      "Pass\n",
      "Pass\n",
      "Pass\n",
      "Pass\n"
     ]
    }
   ],
   "source": [
    "print (\"Pass\" if not (anagram_checker('water','waiter')) else \"Fail\")\n",
    "print (\"Pass\" if anagram_checker('Dormitory','Dirty room') else \"Fail\")\n",
    "print (\"Pass\" if anagram_checker('Slot machines', 'Cash lost in me') else \"Fail\")\n",
    "print (\"Pass\" if not (anagram_checker('A gentleman','Elegant men')) else \"Fail\")\n",
    "print (\"Pass\" if anagram_checker('Time and tide wait for no man','Notified madman into water') else \"Fail\")"
   ]
  },
  {
   "cell_type": "code",
   "execution_count": 51,
   "metadata": {
    "graffitiCellId": "id_f1eekl6"
   },
   "outputs": [],
   "source": [
    "# # Test Cases\n",
    "\n",
    "# print (\"Pass\" if not (anagram_checker('water','waiter')) else \"Fail\")\n",
    "# print (\"Pass\" if anagram_checker('Dormitory','Dirty room') else \"Fail\")\n",
    "# print (\"Pass\" if anagram_checker('Slot machines', 'Cash lost in me') else \"Fail\")\n",
    "# print (\"Pass\" if not (anagram_checker('A gentleman','Elegant men')) else \"Fail\")\n",
    "# print (\"Pass\" if anagram_checker('Time and tide wait for no man','Notified madman into water') else \"Fail\")"
   ]
  },
  {
   "cell_type": "markdown",
   "metadata": {
    "graffitiCellId": "id_hnedbqz"
   },
   "source": [
    "<span class=\"graffiti-highlight graffiti-id_hnedbqz-id_0ifjb4r\"><i></i><button>Show Solution</button></span>"
   ]
  },
  {
   "cell_type": "markdown",
   "metadata": {
    "graffitiCellId": "id_tz5wudt"
   },
   "source": [
    "#### Reverse the words in sentence"
   ]
  },
  {
   "cell_type": "markdown",
   "metadata": {
    "graffitiCellId": "id_ggu54in"
   },
   "source": [
    "Given a sentence, reverse each word in the sentence while keeping the order the same!"
   ]
  },
  {
   "cell_type": "code",
   "execution_count": 11,
   "metadata": {
    "graffitiCellId": "id_8datqoy"
   },
   "outputs": [],
   "source": [
    "# Code \n",
    "\n",
    "def word_flipper(our_string):\n",
    "\n",
    "    \"\"\"\n",
    "    Flip the individual words in a sentence\n",
    "\n",
    "    Args:\n",
    "       our_string(string): String with words to flip\n",
    "    Returns:\n",
    "       string: String with words flipped\n",
    "    \"\"\"\n",
    "    \n",
    "    # Reverse each word\n",
    "    words = our_string.split(\" \")\n",
    "    new_words = list()\n",
    "    for i in words:\n",
    "        new_str = str()\n",
    "        for j in range(len(i), 0, -1):\n",
    "            new_str += i[j-1]\n",
    "        new_words.append(new_str)\n",
    "        \n",
    "    # Make sentence with reversed words\n",
    "    new_sentence = str()\n",
    "    for k in range(len(new_words)):\n",
    "        if k < len(new_words) - 1:\n",
    "            new_sentence += new_words[k] + \" \"\n",
    "        else:\n",
    "            new_sentence += new_words[k]\n",
    "    return new_sentence"
   ]
  },
  {
   "cell_type": "code",
   "execution_count": 12,
   "metadata": {
    "graffitiCellId": "id_0rpbyd2"
   },
   "outputs": [
    {
     "name": "stdout",
     "output_type": "stream",
     "text": [
      "Pass\n",
      "Pass\n",
      "Pass\n"
     ]
    }
   ],
   "source": [
    "# Test Cases\n",
    "\n",
    "print (\"Pass\" if ('retaw' == word_flipper('water')) else \"Fail\")\n",
    "print (\"Pass\" if ('sihT si na elpmaxe' == word_flipper('This is an example')) else \"Fail\")\n",
    "print (\"Pass\" if ('sihT si eno llams pets rof ...' == word_flipper('This is one small step for ...')) else \"Fail\")"
   ]
  },
  {
   "cell_type": "markdown",
   "metadata": {
    "graffitiCellId": "id_ttzcm4k"
   },
   "source": [
    "<span class=\"graffiti-highlight graffiti-id_ttzcm4k-id_m6frlmt\"><i></i><button>Show Solution</button></span>"
   ]
  },
  {
   "cell_type": "markdown",
   "metadata": {
    "graffitiCellId": "id_4422nbp"
   },
   "source": [
    "#### Hamming Distance"
   ]
  },
  {
   "cell_type": "markdown",
   "metadata": {
    "graffitiCellId": "id_fz4qros"
   },
   "source": [
    "In information theory, the Hamming distance between two strings of equal length is the number of positions at which the corresponding symbols are different. Calculate the Hamming distace for the following test cases."
   ]
  },
  {
   "cell_type": "code",
   "execution_count": 13,
   "metadata": {
    "graffitiCellId": "id_a0xltk3"
   },
   "outputs": [],
   "source": [
    "# Code\n",
    "\n",
    "def hamming_distance(str1, str2):\n",
    "\n",
    "    \"\"\"\n",
    "    Calculate the hamming distance of the two strings\n",
    "\n",
    "    Args:\n",
    "       str1(string),str2(string): Strings to be used for finding the hamming distance\n",
    "    Returns:\n",
    "       int: Hamming Distance\n",
    "    \"\"\"\n",
    "    \n",
    "    if len(str1) != len(str2):\n",
    "        return None\n",
    "    \n",
    "    hamming_dist = 0\n",
    "    for i,j in zip(str1, str2):\n",
    "        if i != j:\n",
    "            hamming_dist += 1\n",
    "    \n",
    "    return hamming_dist"
   ]
  },
  {
   "cell_type": "code",
   "execution_count": 14,
   "metadata": {
    "graffitiCellId": "id_9vbn2ol"
   },
   "outputs": [
    {
     "name": "stdout",
     "output_type": "stream",
     "text": [
      "Pass\n",
      "Pass\n",
      "Pass\n",
      "Pass\n",
      "Pass\n"
     ]
    }
   ],
   "source": [
    "# Test Cases\n",
    "\n",
    "print (\"Pass\" if (10 == hamming_distance('ACTTGACCGGG','GATCCGGTACA')) else \"Fail\")\n",
    "print (\"Pass\" if  (1 == hamming_distance('shove','stove')) else \"Fail\")\n",
    "print (\"Pass\" if  (None == hamming_distance('Slot machines', 'Cash lost in me')) else \"Fail\")\n",
    "print (\"Pass\" if  (9 == hamming_distance('A gentleman','Elegant men')) else \"Fail\")\n",
    "print (\"Pass\" if  (2 == hamming_distance('0101010100011101','0101010100010001')) else \"Fail\")"
   ]
  },
  {
   "cell_type": "markdown",
   "metadata": {
    "graffitiCellId": "id_uor0wb6"
   },
   "source": [
    "<span class=\"graffiti-highlight graffiti-id_kddwu3s-id_u1nzuf0\"><i></i><button>Show Solution</button></span>"
   ]
  },
  {
   "cell_type": "code",
   "execution_count": 25,
   "metadata": {
    "graffitiCellId": "id_wtp5n49"
   },
   "outputs": [
    {
     "name": "stdout",
     "output_type": "stream",
     "text": [
      "Fail\n"
     ]
    }
   ],
   "source": [
    "S = \"S\"\n",
    "print(\"Pass\" if (S == \"s\") else \"Fail\")"
   ]
  },
  {
   "cell_type": "code",
   "execution_count": null,
   "metadata": {
    "graffitiCellId": "id_crdfoj5"
   },
   "outputs": [],
   "source": []
  }
 ],
 "metadata": {
  "graffiti": {
   "firstAuthorId": "10694620118",
   "id": "id_cwbhghd",
   "language": "EN"
  },
  "kernelspec": {
   "display_name": "Python 3",
   "language": "python",
   "name": "python3"
  },
  "language_info": {
   "codemirror_mode": {
    "name": "ipython",
    "version": 3
   },
   "file_extension": ".py",
   "mimetype": "text/x-python",
   "name": "python",
   "nbconvert_exporter": "python",
   "pygments_lexer": "ipython3",
   "version": "3.6.3"
  },
  "widgets": {
   "state": {},
   "version": "1.1.2"
  }
 },
 "nbformat": 4,
 "nbformat_minor": 2
}

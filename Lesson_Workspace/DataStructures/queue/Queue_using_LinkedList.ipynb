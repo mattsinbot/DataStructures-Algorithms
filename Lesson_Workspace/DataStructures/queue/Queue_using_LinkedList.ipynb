{
 "cells": [
  {
   "cell_type": "markdown",
   "metadata": {},
   "source": [
    "# Implementing Queue Using Linked List"
   ]
  },
  {
   "cell_type": "code",
   "execution_count": 7,
   "metadata": {},
   "outputs": [],
   "source": [
    "# Step 1\n",
    "class Node(object):\n",
    "    def __init__(self, value):\n",
    "        self.value = value\n",
    "        self.next = None"
   ]
  },
  {
   "cell_type": "code",
   "execution_count": 8,
   "metadata": {},
   "outputs": [],
   "source": [
    "# Step 2\n",
    "class Queue:\n",
    "    def __init__(self):\n",
    "        self.head = None\n",
    "        self.tail = None\n",
    "        self.num_element = 0\n",
    "        \n",
    "    def size(self):\n",
    "         return self.num_element\n",
    "        \n",
    "    def is_empty(self):\n",
    "        return self.num_element == 0\n",
    "        \n",
    "    def enqueue(self,item):\n",
    "        new_node = Node(item)\n",
    "        if self.head is None:\n",
    "            self.head = new_node\n",
    "            self.tail = self.head\n",
    "        else:\n",
    "            self.tail.next = new_node\n",
    "            self.tail = self.tail.next\n",
    "        self.num_element += 1\n",
    "        \n",
    "    def dequeue(self):\n",
    "        if self.head is None:\n",
    "            return None\n",
    "        else:\n",
    "            value = self.head.value\n",
    "            self.head = self.head.next\n",
    "        self.num_element -= 1\n",
    "        return value\n",
    "        "
   ]
  },
  {
   "cell_type": "code",
   "execution_count": 9,
   "metadata": {},
   "outputs": [
    {
     "name": "stdout",
     "output_type": "stream",
     "text": [
      "Pass\n",
      "Pass\n",
      "Pass\n",
      "Pass\n",
      "Pass\n",
      "Pass\n"
     ]
    }
   ],
   "source": [
    "# Setup\n",
    "q = Queue()\n",
    "q.enqueue(1)\n",
    "q.enqueue(2)\n",
    "q.enqueue(3)\n",
    "\n",
    "# Test size\n",
    "print (\"Pass\" if (q.size() == 3) else \"Fail\")\n",
    "\n",
    "# Test dequeue\n",
    "print (\"Pass\" if (q.dequeue() == 1) else \"Fail\")\n",
    "\n",
    "# Test enqueue\n",
    "q.enqueue(4)\n",
    "print (\"Pass\" if (q.dequeue() == 2) else \"Fail\")\n",
    "print (\"Pass\" if (q.dequeue() == 3) else \"Fail\")\n",
    "print (\"Pass\" if (q.dequeue() == 4) else \"Fail\")\n",
    "q.enqueue(5)\n",
    "print (\"Pass\" if (q.size() == 1) else \"Fail\")"
   ]
  },
  {
   "cell_type": "code",
   "execution_count": 16,
   "metadata": {},
   "outputs": [],
   "source": [
    "def reverse_queue(queue):\n",
    "    \"\"\" Reverese the input queue\n",
    "    Args: queue(queue),str2(string): Queue to be reversed\n",
    "    Returns: queue: Reveresed queue \"\"\"\n",
    "    if queue.size() == 1:\n",
    "        return\n",
    "    queue.tail = queue.head\n",
    "    current_node = queue.head\n",
    "    prev_node = Node(current_node.value)\n",
    "    while current_node.next is not None:\n",
    "        new_node = Node(current_node.next.value)\n",
    "        new_node.next = prev_node\n",
    "        prev_node = new_node\n",
    "        current_node = current_node.next\n",
    "    queue.head = new_node"
   ]
  },
  {
   "cell_type": "code",
   "execution_count": 17,
   "metadata": {},
   "outputs": [],
   "source": [
    "def test_function(test_case):\n",
    "    queue = Queue()\n",
    "    for num in test_case:\n",
    "        queue.enqueue(num)\n",
    "    \n",
    "    reverse_queue(queue)\n",
    "    index = len(test_case) - 1\n",
    "    while not queue.is_empty():\n",
    "        removed = queue.dequeue()\n",
    "        if removed != test_case[index]:\n",
    "            print(\"Fail\")\n",
    "            return\n",
    "        else:\n",
    "            index -= 1\n",
    "    print(\"Pass\")"
   ]
  },
  {
   "cell_type": "code",
   "execution_count": 19,
   "metadata": {},
   "outputs": [
    {
     "name": "stdout",
     "output_type": "stream",
     "text": [
      "Pass\n",
      "Pass\n"
     ]
    }
   ],
   "source": [
    "test_case_1 = [1, 2, 3, 4]\n",
    "test_function(test_case_1)\n",
    "test_case_2 = [1]\n",
    "test_function(test_case_2)"
   ]
  },
  {
   "cell_type": "code",
   "execution_count": null,
   "metadata": {},
   "outputs": [],
   "source": []
  }
 ],
 "metadata": {
  "kernelspec": {
   "display_name": "Python 3",
   "language": "python",
   "name": "python3"
  },
  "language_info": {
   "codemirror_mode": {
    "name": "ipython",
    "version": 3
   },
   "file_extension": ".py",
   "mimetype": "text/x-python",
   "name": "python",
   "nbconvert_exporter": "python",
   "pygments_lexer": "ipython3",
   "version": "3.7.3"
  }
 },
 "nbformat": 4,
 "nbformat_minor": 2
}

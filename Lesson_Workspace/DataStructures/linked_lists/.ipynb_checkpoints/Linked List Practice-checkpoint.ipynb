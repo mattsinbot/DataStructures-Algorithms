{
 "cells": [
  {
   "cell_type": "markdown",
   "metadata": {
    "graffitiCellId": "id_18ngdm1"
   },
   "source": [
    "# Linked List Practice\n",
    "\n",
    "Implement a linked list class. Your class should be able to:\n",
    "\n",
    "+ Append data to the tail of the list and prepend to the head\n",
    "+ Search the linked list for a value and return the node\n",
    "+ Remove a node\n",
    "+ Pop, which means to return the first node's value and delete the node from the list\n",
    "+ Insert data at some position in the list\n",
    "+ Return the size (length) of the linked list"
   ]
  },
  {
   "cell_type": "code",
   "execution_count": 7,
   "metadata": {
    "graffitiCellId": "id_x917dkg"
   },
   "outputs": [],
   "source": [
    "class Node:\n",
    "    def __init__(self, value):\n",
    "        self.value = value\n",
    "        self.next = None"
   ]
  },
  {
   "cell_type": "code",
   "execution_count": 24,
   "metadata": {
    "graffitiCellId": "id_hg4vhdi"
   },
   "outputs": [],
   "source": [
    "class LinkedList:\n",
    "    def __init__(self):\n",
    "        self.head = None\n",
    "        self.tail = None\n",
    "        self.num_element = 0\n",
    "        \n",
    "    def prepend(self, value):\n",
    "        \"\"\" Prepend a value to the beginning of the list. \"\"\"        \n",
    "        # TODO: Write function to prepend here\n",
    "        if self.head is None:\n",
    "            self.head = Node(value)\n",
    "            self.tail = self.head\n",
    "        else:\n",
    "            old_head = self.head\n",
    "            self.head = Node(value)\n",
    "            self.head.next = old_head\n",
    "        self.num_element += 1\n",
    "    \n",
    "    def append(self, value):\n",
    "        \"\"\" Append a value to the end of the list. \"\"\"        \n",
    "        # TODO: Write function to append here\n",
    "        if self.head is None:\n",
    "            self.head = Node(value)\n",
    "            self.tail = self.head\n",
    "        else:\n",
    "            self.tail.next = Node(value)\n",
    "            self.tail = self.tail.next\n",
    "        self.num_element += 1\n",
    "    \n",
    "    def search(self, value):\n",
    "        \"\"\" Search the linked list for a node with the requested value and return the node. \"\"\"        \n",
    "        # TODO: Write function to search here\n",
    "        if self.head is None:\n",
    "            return None\n",
    "        \n",
    "        current_node = self.head\n",
    "        while current_node is not None:\n",
    "            if current_node.value == value:\n",
    "                return current_node\n",
    "            else:\n",
    "                current_node = current_node.next\n",
    "    \n",
    "    def remove(self, value):\n",
    "        \"\"\" Remove first occurrence of value. \"\"\"        \n",
    "        # TODO: Write function to remove here\n",
    "        if self.head is None:\n",
    "            return None\n",
    "        \n",
    "        if self.head.value == value:\n",
    "            self.head = self.head.next\n",
    "            self.num_element -= 1\n",
    "            return None\n",
    "        \n",
    "        current_node = self.head\n",
    "        prev_node = self.head\n",
    "        while current_node is not None:\n",
    "            if current_node.value == value:\n",
    "                prev_node.next = current_node.next\n",
    "                self.num_element -= 1\n",
    "                return\n",
    "            else:\n",
    "                prev_node = current_node\n",
    "                current_node = current_node.next                \n",
    "    \n",
    "    def pop(self):\n",
    "        \"\"\" Return the first node's value and remove it from the list. \"\"\"\n",
    "        # TODO: Write function to pop here\n",
    "        if self.head is None:\n",
    "            return None\n",
    "        value = self.head.value\n",
    "        self.head = self.head.next\n",
    "        self.num_element -= 1\n",
    "        return value\n",
    "#         pass\n",
    "    \n",
    "    def insert(self, value, pos):\n",
    "        \"\"\" Insert value at pos position in the list. If pos is larger than the\n",
    "            length of the list, append to the end of the list. \"\"\"        \n",
    "        # TODO: Write function to insert here\n",
    "        new_node = Node(value)\n",
    "        \n",
    "    \n",
    "    def size(self):\n",
    "        \"\"\" Return the size or length of the linked list. \"\"\"\n",
    "        \n",
    "        \n",
    "        # TODO: Write function to get size here\n",
    "        \n",
    "        pass\n",
    "    \n",
    "    def to_list(self):\n",
    "        out = []\n",
    "        node = self.head\n",
    "        while node:\n",
    "            out.append(node.value)\n",
    "            node = node.next\n",
    "        return out"
   ]
  },
  {
   "cell_type": "code",
   "execution_count": 27,
   "metadata": {
    "graffitiCellId": "id_f9k83vl"
   },
   "outputs": [
    {
     "ename": "AssertionError",
     "evalue": "list contents: [1, 4]",
     "output_type": "error",
     "traceback": [
      "\u001b[0;31m---------------------------------------------------------------------------\u001b[0m",
      "\u001b[0;31mAssertionError\u001b[0m                            Traceback (most recent call last)",
      "\u001b[0;32m<ipython-input-27-3a55d8e0639d>\u001b[0m in \u001b[0;36m<module>\u001b[0;34m()\u001b[0m\n\u001b[1;32m     39\u001b[0m \u001b[0;31m# Test insert\u001b[0m\u001b[0;34m\u001b[0m\u001b[0;34m\u001b[0m\u001b[0m\n\u001b[1;32m     40\u001b[0m \u001b[0mlinked_list\u001b[0m\u001b[0;34m.\u001b[0m\u001b[0minsert\u001b[0m\u001b[0;34m(\u001b[0m\u001b[0;36m5\u001b[0m\u001b[0;34m,\u001b[0m \u001b[0;36m0\u001b[0m\u001b[0;34m)\u001b[0m\u001b[0;34m\u001b[0m\u001b[0m\n\u001b[0;32m---> 41\u001b[0;31m \u001b[0;32massert\u001b[0m \u001b[0mlinked_list\u001b[0m\u001b[0;34m.\u001b[0m\u001b[0mto_list\u001b[0m\u001b[0;34m(\u001b[0m\u001b[0;34m)\u001b[0m \u001b[0;34m==\u001b[0m \u001b[0;34m[\u001b[0m\u001b[0;36m5\u001b[0m\u001b[0;34m,\u001b[0m \u001b[0;36m1\u001b[0m\u001b[0;34m,\u001b[0m \u001b[0;36m4\u001b[0m\u001b[0;34m]\u001b[0m\u001b[0;34m,\u001b[0m \u001b[0;34mf\"list contents: {linked_list.to_list()}\"\u001b[0m\u001b[0;34m\u001b[0m\u001b[0m\n\u001b[0m\u001b[1;32m     42\u001b[0m \u001b[0mlinked_list\u001b[0m\u001b[0;34m.\u001b[0m\u001b[0minsert\u001b[0m\u001b[0;34m(\u001b[0m\u001b[0;36m2\u001b[0m\u001b[0;34m,\u001b[0m \u001b[0;36m1\u001b[0m\u001b[0;34m)\u001b[0m\u001b[0;34m\u001b[0m\u001b[0m\n\u001b[1;32m     43\u001b[0m \u001b[0;32massert\u001b[0m \u001b[0mlinked_list\u001b[0m\u001b[0;34m.\u001b[0m\u001b[0mto_list\u001b[0m\u001b[0;34m(\u001b[0m\u001b[0;34m)\u001b[0m \u001b[0;34m==\u001b[0m \u001b[0;34m[\u001b[0m\u001b[0;36m5\u001b[0m\u001b[0;34m,\u001b[0m \u001b[0;36m2\u001b[0m\u001b[0;34m,\u001b[0m \u001b[0;36m1\u001b[0m\u001b[0;34m,\u001b[0m \u001b[0;36m4\u001b[0m\u001b[0;34m]\u001b[0m\u001b[0;34m,\u001b[0m \u001b[0;34mf\"list contents: {linked_list.to_list()}\"\u001b[0m\u001b[0;34m\u001b[0m\u001b[0m\n",
      "\u001b[0;31mAssertionError\u001b[0m: list contents: [1, 4]"
     ]
    }
   ],
   "source": [
    "## Test your implementation here\n",
    "\n",
    "# Test prepend\n",
    "linked_list = LinkedList()\n",
    "linked_list.prepend(1)\n",
    "assert linked_list.to_list() == [1], f\"list contents: {linked_list.to_list()}\"\n",
    "linked_list.append(3)\n",
    "linked_list.prepend(2)\n",
    "assert linked_list.to_list() == [2, 1, 3], f\"list contents: {linked_list.to_list()}\"\n",
    "    \n",
    "# Test append\n",
    "linked_list = LinkedList()\n",
    "linked_list.append(1)\n",
    "assert linked_list.to_list() == [1], f\"list contents: {linked_list.to_list()}\"\n",
    "linked_list.append(3)\n",
    "assert linked_list.to_list() == [1, 3], f\"list contents: {linked_list.to_list()}\"\n",
    "\n",
    "# Test search\n",
    "linked_list.prepend(2)\n",
    "linked_list.prepend(1)\n",
    "linked_list.append(4)\n",
    "linked_list.append(3)\n",
    "assert linked_list.search(1).value == 1, f\"list contents: {linked_list.to_list()}\"\n",
    "assert linked_list.search(4).value == 4, f\"list contents: {linked_list.to_list()}\"\n",
    "\n",
    "# Test remove\n",
    "linked_list.remove(1)\n",
    "assert linked_list.to_list() == [2, 1, 3, 4, 3], f\"list contents: {linked_list.to_list()}\"\n",
    "linked_list.remove(3)\n",
    "assert linked_list.to_list() == [2, 1, 4, 3], f\"list contents: {linked_list.to_list()}\"\n",
    "linked_list.remove(3)\n",
    "assert linked_list.to_list() == [2, 1, 4], f\"list contents: {linked_list.to_list()}\"\n",
    "\n",
    "# Test pop\n",
    "value = linked_list.pop()\n",
    "assert value == 2, f\"list contents: {linked_list.to_list()}\"\n",
    "assert linked_list.head.value == 1, f\"list contents: {linked_list.to_list()}\"\n",
    "\n",
    "# Test insert \n",
    "linked_list.insert(5, 0)\n",
    "assert linked_list.to_list() == [5, 1, 4], f\"list contents: {linked_list.to_list()}\"\n",
    "linked_list.insert(2, 1)\n",
    "assert linked_list.to_list() == [5, 2, 1, 4], f\"list contents: {linked_list.to_list()}\"\n",
    "linked_list.insert(3, 6)\n",
    "assert linked_list.to_list() == [5, 2, 1, 4, 3], f\"list contents: {linked_list.to_list()}\"\n",
    "\n",
    "# # Test size\n",
    "# assert linked_list.size() == 5, f\"list contents: {linked_list.to_list()}\""
   ]
  },
  {
   "cell_type": "markdown",
   "metadata": {
    "graffitiCellId": "id_hpn7l32"
   },
   "source": [
    "<span class=\"graffiti-highlight graffiti-id_hpn7l32-id_xaqiyxe\"><i></i><button>Show Solution</button></span>"
   ]
  },
  {
   "cell_type": "code",
   "execution_count": null,
   "metadata": {
    "graffitiCellId": "id_y4ox7rg"
   },
   "outputs": [],
   "source": []
  }
 ],
 "metadata": {
  "graffiti": {
   "firstAuthorId": "10694620118",
   "id": "id_9v48ov8",
   "language": "EN"
  },
  "kernelspec": {
   "display_name": "Python 3",
   "language": "python",
   "name": "python3"
  },
  "language_info": {
   "codemirror_mode": {
    "name": "ipython",
    "version": 3
   },
   "file_extension": ".py",
   "mimetype": "text/x-python",
   "name": "python",
   "nbconvert_exporter": "python",
   "pygments_lexer": "ipython3",
   "version": "3.6.3"
  }
 },
 "nbformat": 4,
 "nbformat_minor": 2
}

{
 "cells": [
  {
   "cell_type": "code",
   "execution_count": 8,
   "metadata": {},
   "outputs": [],
   "source": [
    "def heapify(arr, n, i):\n",
    "    max_index = i\n",
    "    left_child_index = 2*i + 1\n",
    "    right_child_index = 2*i + 2\n",
    "    \n",
    "    if left_child_index < n and arr[left_child_index] > arr[max_index]:\n",
    "        max_index = left_child_index\n",
    "        \n",
    "    if right_child_index < n and arr[right_child_index] > arr[max_index]:\n",
    "        max_index = right_child_index\n",
    "        \n",
    "    if max_index != i:\n",
    "        arr[i], arr[max_index] = arr[max_index], arr[i]\n",
    "        heapify(arr, n, max_index)\n",
    "\n",
    "# Build max-heap tree\n",
    "def heap_sort(input_list):\n",
    "    n = len(input_list)\n",
    "    \n",
    "    # Insert elements to the max-heap tree from right end of the input list \n",
    "    for i in range(n-1, -1, -1):\n",
    "        heapify(input_list, n, i)\n",
    "    \n",
    "    # Check whether max-heap tree has been created correctly\n",
    "    print(input_list)\n",
    "    \n",
    "    # Although you have created the heap-tree correctly, the input array is not yet sorted.\n",
    "    # The following for loop does exactly that.\n",
    "    for i in range(n-1, 0, -1):\n",
    "        input_list[i], input_list[0] = input_list[0], input_list[i]\n",
    "        heapify(input_list, i, 0)\n",
    "        print(input_list)"
   ]
  },
  {
   "cell_type": "code",
   "execution_count": 9,
   "metadata": {},
   "outputs": [
    {
     "name": "stdout",
     "output_type": "stream",
     "text": [
      "[6, 5, 3, 3, 1, 2, 2]\n",
      "[5, 3, 3, 2, 1, 2, 6]\n",
      "[3, 2, 3, 2, 1, 5, 6]\n",
      "[3, 2, 1, 2, 3, 5, 6]\n",
      "[2, 2, 1, 3, 3, 5, 6]\n",
      "[2, 1, 2, 3, 3, 5, 6]\n",
      "[1, 2, 2, 3, 3, 5, 6]\n"
     ]
    }
   ],
   "source": [
    "list_to_sort = [2, 5, 6, 3, 1, 2, 3]\n",
    "heap_sort(list_to_sort)"
   ]
  },
  {
   "cell_type": "code",
   "execution_count": null,
   "metadata": {},
   "outputs": [],
   "source": []
  }
 ],
 "metadata": {
  "kernelspec": {
   "display_name": "Python 3",
   "language": "python",
   "name": "python3"
  },
  "language_info": {
   "codemirror_mode": {
    "name": "ipython",
    "version": 3
   },
   "file_extension": ".py",
   "mimetype": "text/x-python",
   "name": "python",
   "nbconvert_exporter": "python",
   "pygments_lexer": "ipython3",
   "version": "3.6.3"
  }
 },
 "nbformat": 4,
 "nbformat_minor": 2
}

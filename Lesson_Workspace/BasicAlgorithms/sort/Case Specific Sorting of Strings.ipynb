{
 "cells": [
  {
   "cell_type": "markdown",
   "metadata": {
    "graffitiCellId": "id_7nj9dyd"
   },
   "source": [
    "# Case Specific Sorting of Strings\n",
    "\n",
    "## Problem statement\n",
    "Given a string consisting of uppercase and lowercase ASCII characters, write a function, `case_sort`, that sorts uppercase and lowercase letters separately, such that if the $i$th place in the original string had an uppercase character then it should not have a lowercase character after being sorted and vice versa.\n",
    "\n",
    "For example:  \n",
    "**Input:** fedRTSersUXJ  \n",
    "**Output:** deeJRSfrsTUX"
   ]
  },
  {
   "cell_type": "code",
   "execution_count": 38,
   "metadata": {
    "graffitiCellId": "id_jmqckie"
   },
   "outputs": [],
   "source": [
    "def case_sort(string):\n",
    "    \"\"\"\n",
    "    Here are some pointers on how the function should work:\n",
    "    1. Sort the string\n",
    "    2. Create an empty output list\n",
    "    3. Iterate over original string\n",
    "        if the character is lower-case:\n",
    "            pick lower-case character from sorted string to place in output list\n",
    "        else:\n",
    "            pick upper-case character from sorted string to place in output list\n",
    "    \n",
    "    Note: You can use Python's inbuilt ord() function to find the ASCII value of a character\n",
    "    \"\"\"\n",
    "    output = \"\"\n",
    "    str_list = []\n",
    "    upper_total = 0\n",
    "    for i in string:\n",
    "        if i.islower():\n",
    "            upper_total += 1\n",
    "        str_list.append(i)\n",
    "    str_list.sort()\n",
    "    \n",
    "    upper_index = 0\n",
    "    lower_index = upper_total\n",
    "    for i in string:\n",
    "        if i.islower():\n",
    "            output += str_list[lower_index]\n",
    "            lower_index += 1\n",
    "        else:\n",
    "            output += str_list[upper_index]\n",
    "            upper_index += 1\n",
    "    print(output)\n",
    "    return output"
   ]
  },
  {
   "cell_type": "markdown",
   "metadata": {
    "graffitiCellId": "id_mw53bf1"
   },
   "source": [
    "<span class=\"graffiti-highlight graffiti-id_mw53bf1-id_fsblbn3\"><i></i><button>Show Solution</button></span>"
   ]
  },
  {
   "cell_type": "code",
   "execution_count": 39,
   "metadata": {
    "graffitiCellId": "id_z40d3cc"
   },
   "outputs": [],
   "source": [
    "def test_function(test_case):\n",
    "    test_string = test_case[0]\n",
    "    solution = test_case[1]\n",
    "    \n",
    "    if case_sort(test_string) == solution:\n",
    "        print(\"Pass\")\n",
    "    else:\n",
    "        print(\"False\")"
   ]
  },
  {
   "cell_type": "code",
   "execution_count": 40,
   "metadata": {
    "graffitiCellId": "id_gxkbvwz"
   },
   "outputs": [
    {
     "name": "stdout",
     "output_type": "stream",
     "text": [
      "deeJRSfrsTUX\n",
      "Pass\n"
     ]
    }
   ],
   "source": [
    "test_string = 'fedRTSersUXJ'\n",
    "solution = \"deeJRSfrsTUX\"\n",
    "test_case = [test_string, solution]\n",
    "test_function(test_case)"
   ]
  },
  {
   "cell_type": "code",
   "execution_count": 41,
   "metadata": {
    "graffitiCellId": "id_uduu26h"
   },
   "outputs": [
    {
     "name": "stdout",
     "output_type": "stream",
     "text": [
      "deeIRSfrsTUX\n",
      "Pass\n"
     ]
    }
   ],
   "source": [
    "test_string = \"defRTSersUXI\"\n",
    "solution = \"deeIRSfrsTUX\"\n",
    "test_case = [test_string, solution]\n",
    "test_function(test_case)"
   ]
  },
  {
   "cell_type": "code",
   "execution_count": null,
   "metadata": {
    "graffitiCellId": "id_3wjaxy3"
   },
   "outputs": [],
   "source": []
  }
 ],
 "metadata": {
  "graffiti": {
   "firstAuthorId": "dev",
   "id": "id_9ub8eru",
   "language": "EN"
  },
  "kernelspec": {
   "display_name": "Python 3",
   "language": "python",
   "name": "python3"
  },
  "language_info": {
   "codemirror_mode": {
    "name": "ipython",
    "version": 3
   },
   "file_extension": ".py",
   "mimetype": "text/x-python",
   "name": "python",
   "nbconvert_exporter": "python",
   "pygments_lexer": "ipython3",
   "version": "3.6.3"
  }
 },
 "nbformat": 4,
 "nbformat_minor": 2
}
